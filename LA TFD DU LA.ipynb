{
  "cells": [
    {
      "metadata": {
        "collapsed": true
      },
      "cell_type": "markdown",
      "source": "# EXPÉRIENCE AVEC LES BTS2 SN\n\n\n\n## OBJECTIF :\n##### Le but de cette expérience est de savoir si le piano de ma fille est bien accordée. Pour cela, le 3ème LA a été joué et enregistré à une fréquence d'échantillonage de 44 kz sur 16 bits grâce au logiciel libre Audacity.\n##### Rappelons que cette note correspond à une fréquence de 440 hz.\n\n\n## Mise en place :\nPour parvenir à nos fins, le fichier piano.wav se trouve à la racine et nous utiliserons un environnement Python 3.6.\n"
    },
    {
      "metadata": {},
      "cell_type": "markdown",
      "source": "## ÉTAPE 1\n\nNous allons importer les modules et bibliothèques nécessaires au traitement du son, au calcul (TFD) et au tracé de graphique.\n\n- *scipy* pour tout ce qui tourne autour des maths, de l'ingénierie, des sciences en général. Ici, c'est la bibliothèque de traitement de fichiers son qui nous intéresse.\n- *numpy* pour le calcul mathématiques (*Fast Fourier Transform*, ici).\n- *matplotlib* pour le tracé de graphiques : pour l'usage en ligne avec les notebooks il faut le spécifier avec la première ligne."
    },
    {
      "metadata": {
        "trusted": true
      },
      "cell_type": "code",
      "source": "%matplotlib inline\nfrom scipy.io.wavfile import read\nimport numpy as np\nfrom matplotlib import pyplot as plt\nfrom numpy.fft import fft",
      "execution_count": 1,
      "outputs": []
    },
    {
      "metadata": {},
      "cell_type": "markdown",
      "source": "## ÉTAPE 2"
    },
    {
      "metadata": {},
      "cell_type": "markdown",
      "source": "L'étape suivante consiste en premier lieu à ouvrir notre fichier sonore 'piano.wav' avec la fonction 'read()'.\nAttention, cette fonction retourne pour un fichier sonore deux valeurs : le taux d'échantillonnage **et** les données.\n\nCompléter le code en remplaçant les *???* et tenant compte des points suivants :\n\n1. Il faut penser à affecter le retour de la fonction 'read()' à deux variables simultanément que l'on nommera 'tx_echant' et 'donnees'.\n2. On récupère la taille du fichier sonore avec la méthode '.size' que l'on affecte à une variable.\n3. La durée du morceau est égale au quotient de la taille par le taux d'échantillonnage.\n4. On affiche cette durée."
    },
    {
      "metadata": {
        "slideshow": {
          "slide_type": "slide"
        },
        "trusted": true
      },
      "cell_type": "code",
      "source": "tx_echant, donnees = read('piano.wav')\ntaille = donnees.size\nduree = taille / tx_echant\nprint(duree, \"secondes\")\n",
      "execution_count": 2,
      "outputs": [
        {
          "output_type": "stream",
          "text": "2.0085260770975055 secondes\n",
          "name": "stdout"
        }
      ]
    },
    {
      "metadata": {},
      "cell_type": "markdown",
      "source": "## ÉTAPE 3"
    },
    {
      "metadata": {},
      "cell_type": "markdown",
      "source": "On souhaite maintenant tracer la représentation temporelle du signal audio.\nVous allez recopier les instructions qui vous seront données en capture d'écran et nous allons les commenter :\n\n- il nous faut une fenêtre temporelle d'étude du signal (axe des abscisses) : on échantillonne notre signal ! Pour cela on prend la taille de notre signal et on la divise par la fréquence du signal ;\n- la fonction arange() va prendre des valeurs de façon régulière entre 0 et le nombre maximum de données avec un incrément de 1."
    },
    {
      "metadata": {
        "trusted": true
      },
      "cell_type": "code",
      "source": "te = np.arange(taille)/tx_echant\nplt.figure(1)\nplt.plot(te,donnees)\nplt.grid(True)\nplt.show(1)",
      "execution_count": 3,
      "outputs": [
        {
          "output_type": "display_data",
          "data": {
            "image/png": "[encoded data removed]",
            "text/plain": "<Figure size 432x288 with 1 Axes>"
          },
          "metadata": {
            "needs_background": "light"
          }
        }
      ]
    },
    {
      "metadata": {},
      "cell_type": "markdown",
      "source": "## ÉTAPE 4"
    },
    {
      "metadata": {},
      "cell_type": "markdown",
      "source": "On souhaite maintenant obtenir la représentation **spectrale** de notre signal qui nous donnera la *fondamentale* de notre note et ses *harmoniques*...\n\nPour cela il faut calculer la TFD du signal : on se tourne vers l'algorithme **FFT** (*Fast Fourier Transform*) du module *Numpy*.\nIl nous faut :\n- un début et une fin ;\n- la fréquence d'échantillonnage du signal ;\n- les données du signal.\n\nNous allons définir une fonction *tracerSpectre()* que nous pourrons appeler quand nous le souhaitons avec les paramètres cités au-dessus."
    },
    {
      "metadata": {
        "trusted": true
      },
      "cell_type": "code",
      "source": "def tracerSpectre(donnees,tx_echant,debut,duree):\n    start = int(debut*tx_echant)\n    stop = int((debut+duree)*tx_echant)\n    spectre = np.absolute(fft(donnees[start:stop]))\n    spectre = spectre/spectre.max()\n    n = spectre.size\n    freq = np.arange(n)*1.0/n*tx_echant\n    plt.figure(2)\n    plt.vlines(freq,[0],spectre,'r')\n    plt.xlabel('f (Hz)')\n    plt.ylabel('A')\n    plt.axis([430,0.01*tx_echant,0,1])\n    plt.grid()\n    plt.show(2)",
      "execution_count": 22,
      "outputs": []
    },
    {
      "metadata": {
        "trusted": true
      },
      "cell_type": "markdown",
      "source": "Ensuite, il ne reste plus qu'à appeler notre fonction avec les arguments :\n- donnees (en mémoire)\n- tx_echant (en mémoire)\n- debut : à choisir (en secondes)\n- duree : à choisir (en secondes)"
    },
    {
      "metadata": {
        "trusted": true
      },
      "cell_type": "code",
      "source": "tracerSpectre(donnees,tx_echant,0,2)\n",
      "execution_count": 25,
      "outputs": [
        {
          "output_type": "display_data",
          "data": {
            "image/png": "[encoded data removed]",
            "text/plain": "<Figure size 432x288 with 1 Axes>"
          },
          "metadata": {
            "needs_background": "light"
          }
        }
      ]
    },
    {
      "metadata": {
        "trusted": true
      },
      "cell_type": "code",
      "source": "",
      "execution_count": null,
      "outputs": []
    }
  ],
  "metadata": {
    "kernelspec": {
      "name": "python36",
      "display_name": "Python 3.6",
      "language": "python"
    },
    "language_info": {
      "mimetype": "text/x-python",
      "nbconvert_exporter": "python",
      "name": "python",
      "pygments_lexer": "ipython3",
      "version": "3.6.6",
      "file_extension": ".py",
      "codemirror_mode": {
        "version": 3,
        "name": "ipython"
      }
    }
  },
  "nbformat": 4,
  "nbformat_minor": 2
}