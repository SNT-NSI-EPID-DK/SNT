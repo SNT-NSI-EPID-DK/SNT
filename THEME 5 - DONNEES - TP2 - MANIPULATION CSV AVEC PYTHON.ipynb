{
 "cells": [
  {
   "cell_type": "markdown",
   "metadata": {},
   "source": [
    "# SNT - DONNÉES STRUCTURÉES - TP2 - PYTHON CSV"
   ]
  },
  {
   "cell_type": "markdown",
   "metadata": {},
   "source": [
    "*Données au format CSV*"
   ]
  },
  {
   "cell_type": "markdown",
   "metadata": {},
   "source": [
    "## La bibliothèque PANDAS"
   ]
  },
  {
   "cell_type": "markdown",
   "metadata": {},
   "source": [
    "Pour manipuler les fichiers CSV, Python embarque une bibliothèque nommée 'csv'. Cependant, nous allons une autre bilibothèque plus performante avec les fichiers de taille importante : 'pandas'.\n",
    "\n",
    "**Préalable**\n",
    "\n",
    "Commençons par nous assurer que cette bibliothèque est installée dans Thonny ou Spyder ou Pyzo (etc.):\n",
    "- Dans le menu *OUTILS*, choisir *GERER LES PAQUETS* ;\n",
    "- chercher 'pandas' : choisir *INSTALLER* si ce n'est pas déjà le cas.\n",
    "\n",
    "---\n",
    "---\n",
    "*REMARQUE*\n",
    "\n",
    "On peut aussi utiliser la commande :  \n",
    "\n",
    "```python\n",
    "pip install pandas\n",
    "```\n",
    "\n",
    "    \n",
    "dans la console, qui fonctionne aussi avec Pyzo, EduPython, etc.\n",
    "\n",
    "---\n",
    "---\n",
    "\n",
    "Créer un NOUVEAU FICHIER dans Thonny et enregistrez-le sur votre clé USB sous le nom :\n",
    "    \n",
    "    numéro_binôme OU Nom élève - TP2-THEME5-CSV PYTHON\n",
    "\n",
    "**Dans le même dossier**, vous placerez le fichier 'ClassDIffFilms20092018.csv' que vous récupérerez sur TEAMS."
   ]
  },
  {
   "cell_type": "markdown",
   "metadata": {},
   "source": [
    "## C'est parti !"
   ]
  },
  {
   "cell_type": "markdown",
   "metadata": {},
   "source": [
    "### TOUTES LES INSTRUCTIONS SERONT ÉCRITES DANS L'ÉDITEUR DE CODE AFIN QUE VOUS PUISSIEZ ENREGISTRER L'ENSEMBLE DES INSTRUCTIONS MANIPULÉES, MAIS VOUS LES TESTEREZ UNE À UNE EN LES COPIANT DANS LA CONSOLE (SHELL) LES UNES APRÈS LES AUTRES :"
   ]
  },
  {
   "cell_type": "markdown",
   "metadata": {},
   "source": [
    "<img src = 'img test.png' width='400'>"
   ]
  },
  {
   "cell_type": "markdown",
   "metadata": {},
   "source": [
    "Commençons par importer cette bibliothèque Pandas :"
   ]
  },
  {
   "cell_type": "code",
   "execution_count": 1,
   "metadata": {},
   "outputs": [],
   "source": [
    "import pandas"
   ]
  },
  {
   "cell_type": "markdown",
   "metadata": {},
   "source": [
    "## Charger en mémoire un fichier de données au format 'csv' :\n",
    "\n",
    "On remarquera deux paramètres lorsque l'on appelle la fonction :\n",
    "- le nom du fichier,\n",
    "- le séparateur de données (ici, la virgule)"
   ]
  },
  {
   "cell_type": "code",
   "execution_count": 2,
   "metadata": {},
   "outputs": [],
   "source": [
    "monfichier = pandas.read_csv('ClassDIffFilms20092018.csv', sep = ';')"
   ]
  },
  {
   "cell_type": "markdown",
   "metadata": {},
   "source": [
    "### Informations concernant la collection de données"
   ]
  },
  {
   "cell_type": "markdown",
   "metadata": {},
   "source": [
    "Dans un premier temps, nous pouvons obtenir le volume de données contenu dans cette collection. On fait alors appel à la méthode 'shape' qui retourne dans l'ordre :\n",
    "- le nombre d'enregistrements;\n",
    "- le nombre de descripteurs."
   ]
  },
  {
   "cell_type": "code",
   "execution_count": 3,
   "metadata": {},
   "outputs": [
    {
     "name": "stdout",
     "output_type": "stream",
     "text": [
      "(133, 6)\n"
     ]
    }
   ],
   "source": [
    "print(monfichier.shape)"
   ]
  },
  {
   "cell_type": "markdown",
   "metadata": {},
   "source": [
    "**Remarque :\n",
    "en console, on peut omettre l'instruction**\n",
    "```python\n",
    "print()\n",
    "```\n",
    "**dès qu'il s'agit d'obtenir une sortie, un affichage à l'écran :**"
   ]
  },
  {
   "cell_type": "code",
   "execution_count": 4,
   "metadata": {},
   "outputs": [
    {
     "data": {
      "text/plain": [
       "(133, 6)"
      ]
     },
     "execution_count": 4,
     "metadata": {},
     "output_type": "execute_result"
    }
   ],
   "source": [
    "monfichier.shape"
   ]
  },
  {
   "cell_type": "markdown",
   "metadata": {},
   "source": [
    "### Afficher la collection de données"
   ]
  },
  {
   "cell_type": "markdown",
   "metadata": {},
   "source": [
    "Nous pouvons afficher les enregistrements de notre fichier de deux façons.\n",
    "\n",
    "Soit en invoquant le nom de notre tableau de données chargé en mémoire, ce qui fonctionnera en mode interactif (mode console ou *shell* ) :"
   ]
  },
  {
   "cell_type": "code",
   "execution_count": 5,
   "metadata": {},
   "outputs": [
    {
     "data": {
      "text/html": [
       "<div>\n",
       "<style scoped>\n",
       "    .dataframe tbody tr th:only-of-type {\n",
       "        vertical-align: middle;\n",
       "    }\n",
       "\n",
       "    .dataframe tbody tr th {\n",
       "        vertical-align: top;\n",
       "    }\n",
       "\n",
       "    .dataframe thead th {\n",
       "        text-align: right;\n",
       "    }\n",
       "</style>\n",
       "<table border=\"1\" class=\"dataframe\">\n",
       "  <thead>\n",
       "    <tr style=\"text-align: right;\">\n",
       "      <th></th>\n",
       "      <th>nombre de diffusions</th>\n",
       "      <th>titre</th>\n",
       "      <th>réalisateurs</th>\n",
       "      <th>année de production</th>\n",
       "      <th>nationalité</th>\n",
       "      <th>année de dernière diffusion</th>\n",
       "    </tr>\n",
       "  </thead>\n",
       "  <tbody>\n",
       "    <tr>\n",
       "      <th>0</th>\n",
       "      <td>19</td>\n",
       "      <td>11 COMMANDEMENTS (LES)</td>\n",
       "      <td>DESAGNAT François / SORRIAUX Thomas</td>\n",
       "      <td>2003</td>\n",
       "      <td>France</td>\n",
       "      <td>2018</td>\n",
       "    </tr>\n",
       "    <tr>\n",
       "      <th>1</th>\n",
       "      <td>18</td>\n",
       "      <td>ASTERIX CHEZ LES BRETONS</td>\n",
       "      <td>VAN LAMSWEERDE Pino</td>\n",
       "      <td>1985</td>\n",
       "      <td>France</td>\n",
       "      <td>2018</td>\n",
       "    </tr>\n",
       "    <tr>\n",
       "      <th>2</th>\n",
       "      <td>18</td>\n",
       "      <td>TINTIN ET LE LAC AUX REQUINS</td>\n",
       "      <td>LEBLANC Raymond</td>\n",
       "      <td>1972</td>\n",
       "      <td>France</td>\n",
       "      <td>2018</td>\n",
       "    </tr>\n",
       "    <tr>\n",
       "      <th>3</th>\n",
       "      <td>17</td>\n",
       "      <td>CHAOS</td>\n",
       "      <td>GIGLIO Tony</td>\n",
       "      <td>2004</td>\n",
       "      <td>Europe</td>\n",
       "      <td>2018</td>\n",
       "    </tr>\n",
       "    <tr>\n",
       "      <th>4</th>\n",
       "      <td>17</td>\n",
       "      <td>DEUX HEURES MOINS LE QUART AVANT JESUS-CHRIST</td>\n",
       "      <td>YANNE Jean</td>\n",
       "      <td>1982</td>\n",
       "      <td>France</td>\n",
       "      <td>2018</td>\n",
       "    </tr>\n",
       "    <tr>\n",
       "      <th>5</th>\n",
       "      <td>17</td>\n",
       "      <td>DOUZE TRAVAUX D'ASTERIX (LES)</td>\n",
       "      <td>GOSCINNY René / UDERZO Albert</td>\n",
       "      <td>1975</td>\n",
       "      <td>France</td>\n",
       "      <td>2018</td>\n",
       "    </tr>\n",
       "    <tr>\n",
       "      <th>6</th>\n",
       "      <td>17</td>\n",
       "      <td>FAST AND FURIOUS : TOKYO DRIFT</td>\n",
       "      <td>LIN Justin</td>\n",
       "      <td>2005</td>\n",
       "      <td>Etats-Unis</td>\n",
       "      <td>2018</td>\n",
       "    </tr>\n",
       "    <tr>\n",
       "      <th>7</th>\n",
       "      <td>16</td>\n",
       "      <td>ASTERIX ET LA SURPRISE DE CESAR</td>\n",
       "      <td>BRIZZI Gaëtan / BRIZZI Paul</td>\n",
       "      <td>1985</td>\n",
       "      <td>France</td>\n",
       "      <td>2018</td>\n",
       "    </tr>\n",
       "    <tr>\n",
       "      <th>8</th>\n",
       "      <td>16</td>\n",
       "      <td>BANDIDAS</td>\n",
       "      <td>ROENNING Joachim / SANDBERG Espen</td>\n",
       "      <td>2005</td>\n",
       "      <td>France</td>\n",
       "      <td>2018</td>\n",
       "    </tr>\n",
       "    <tr>\n",
       "      <th>9</th>\n",
       "      <td>16</td>\n",
       "      <td>BIDASSES EN FOLIE (LES)</td>\n",
       "      <td>ZIDI Claude</td>\n",
       "      <td>1971</td>\n",
       "      <td>France</td>\n",
       "      <td>2018</td>\n",
       "    </tr>\n",
       "    <tr>\n",
       "      <th>10</th>\n",
       "      <td>16</td>\n",
       "      <td>FLIC OU VOYOU</td>\n",
       "      <td>LAUTNER Georges</td>\n",
       "      <td>1979</td>\n",
       "      <td>France</td>\n",
       "      <td>2018</td>\n",
       "    </tr>\n",
       "    <tr>\n",
       "      <th>11</th>\n",
       "      <td>16</td>\n",
       "      <td>LIGUE DES GENTLEMEN EXTRAORDINAIRES (LA)</td>\n",
       "      <td>NORRINGTON Stephen</td>\n",
       "      <td>2003</td>\n",
       "      <td>Etats-Unis</td>\n",
       "      <td>2018</td>\n",
       "    </tr>\n",
       "    <tr>\n",
       "      <th>12</th>\n",
       "      <td>16</td>\n",
       "      <td>P.R.O.F.S.</td>\n",
       "      <td>SCHULMANN Patrick</td>\n",
       "      <td>1985</td>\n",
       "      <td>France</td>\n",
       "      <td>2018</td>\n",
       "    </tr>\n",
       "    <tr>\n",
       "      <th>13</th>\n",
       "      <td>16</td>\n",
       "      <td>TINTIN ET LE TEMPLE DU SOLEIL</td>\n",
       "      <td>LEBLANC Raymond</td>\n",
       "      <td>1969</td>\n",
       "      <td>France</td>\n",
       "      <td>2018</td>\n",
       "    </tr>\n",
       "    <tr>\n",
       "      <th>14</th>\n",
       "      <td>16</td>\n",
       "      <td>VIE EST UN LONG FLEUVE TRANQUILLE (LA)</td>\n",
       "      <td>CHATILIEZ Etienne</td>\n",
       "      <td>1987</td>\n",
       "      <td>France</td>\n",
       "      <td>2018</td>\n",
       "    </tr>\n",
       "    <tr>\n",
       "      <th>15</th>\n",
       "      <td>15</td>\n",
       "      <td>4 FANTASTIQUES ET LE SURFER D'ARGENT (LES)</td>\n",
       "      <td>STORY Tim</td>\n",
       "      <td>2007</td>\n",
       "      <td>Etats-Unis</td>\n",
       "      <td>2018</td>\n",
       "    </tr>\n",
       "    <tr>\n",
       "      <th>16</th>\n",
       "      <td>15</td>\n",
       "      <td>ASTERIX ET CLEOPATRE</td>\n",
       "      <td>GOSCINNY René / UDERZO Albert</td>\n",
       "      <td>1968</td>\n",
       "      <td>France</td>\n",
       "      <td>2018</td>\n",
       "    </tr>\n",
       "    <tr>\n",
       "      <th>17</th>\n",
       "      <td>15</td>\n",
       "      <td>ASTERIX ET LE COUP DU MENHIR</td>\n",
       "      <td>GRIMOND Philippe</td>\n",
       "      <td>1988</td>\n",
       "      <td>France</td>\n",
       "      <td>2018</td>\n",
       "    </tr>\n",
       "    <tr>\n",
       "      <th>18</th>\n",
       "      <td>15</td>\n",
       "      <td>ASTERIX ET LES INDIENS</td>\n",
       "      <td>HAHN Gerhard</td>\n",
       "      <td>1994</td>\n",
       "      <td>Europe</td>\n",
       "      <td>2018</td>\n",
       "    </tr>\n",
       "    <tr>\n",
       "      <th>19</th>\n",
       "      <td>15</td>\n",
       "      <td>ASTERIX LE GAULOIS</td>\n",
       "      <td>GOSCINNY René / UDERZO Albert</td>\n",
       "      <td>1967</td>\n",
       "      <td>France</td>\n",
       "      <td>2018</td>\n",
       "    </tr>\n",
       "    <tr>\n",
       "      <th>20</th>\n",
       "      <td>15</td>\n",
       "      <td>CHATEAU DE MA MERE (LE)</td>\n",
       "      <td>ROBERT Yves</td>\n",
       "      <td>1989</td>\n",
       "      <td>France</td>\n",
       "      <td>2018</td>\n",
       "    </tr>\n",
       "    <tr>\n",
       "      <th>21</th>\n",
       "      <td>15</td>\n",
       "      <td>COMME T'Y ES BELLE</td>\n",
       "      <td>AZUELOS Lisa</td>\n",
       "      <td>2004</td>\n",
       "      <td>France</td>\n",
       "      <td>2018</td>\n",
       "    </tr>\n",
       "    <tr>\n",
       "      <th>22</th>\n",
       "      <td>15</td>\n",
       "      <td>KING RISING : AU NOM DU ROI</td>\n",
       "      <td>BOLL Uwe</td>\n",
       "      <td>2007</td>\n",
       "      <td>Europe</td>\n",
       "      <td>2018</td>\n",
       "    </tr>\n",
       "    <tr>\n",
       "      <th>23</th>\n",
       "      <td>15</td>\n",
       "      <td>NIKITA</td>\n",
       "      <td>BESSON Luc</td>\n",
       "      <td>1989</td>\n",
       "      <td>France</td>\n",
       "      <td>2018</td>\n",
       "    </tr>\n",
       "    <tr>\n",
       "      <th>24</th>\n",
       "      <td>15</td>\n",
       "      <td>SAHARA</td>\n",
       "      <td>EISNER Breck</td>\n",
       "      <td>2004</td>\n",
       "      <td>Europe</td>\n",
       "      <td>2018</td>\n",
       "    </tr>\n",
       "    <tr>\n",
       "      <th>25</th>\n",
       "      <td>15</td>\n",
       "      <td>SCOUT TOUJOURS</td>\n",
       "      <td>JUGNOT Gérard</td>\n",
       "      <td>1985</td>\n",
       "      <td>France</td>\n",
       "      <td>2018</td>\n",
       "    </tr>\n",
       "    <tr>\n",
       "      <th>26</th>\n",
       "      <td>15</td>\n",
       "      <td>TOUR MONTPARNASSE INFERNALE (LA)</td>\n",
       "      <td>NEMES Charles</td>\n",
       "      <td>2000</td>\n",
       "      <td>France</td>\n",
       "      <td>2018</td>\n",
       "    </tr>\n",
       "    <tr>\n",
       "      <th>27</th>\n",
       "      <td>15</td>\n",
       "      <td>V POUR VENDETTA</td>\n",
       "      <td>MCTEIGUE James</td>\n",
       "      <td>2005</td>\n",
       "      <td>Europe</td>\n",
       "      <td>2018</td>\n",
       "    </tr>\n",
       "    <tr>\n",
       "      <th>28</th>\n",
       "      <td>15</td>\n",
       "      <td>YAMAKASI</td>\n",
       "      <td>ZEITOUN Ariel</td>\n",
       "      <td>2000</td>\n",
       "      <td>France</td>\n",
       "      <td>2017</td>\n",
       "    </tr>\n",
       "    <tr>\n",
       "      <th>29</th>\n",
       "      <td>14</td>\n",
       "      <td>3 AMIS</td>\n",
       "      <td>BOUJENAH Michel</td>\n",
       "      <td>2006</td>\n",
       "      <td>France</td>\n",
       "      <td>2018</td>\n",
       "    </tr>\n",
       "    <tr>\n",
       "      <th>...</th>\n",
       "      <td>...</td>\n",
       "      <td>...</td>\n",
       "      <td>...</td>\n",
       "      <td>...</td>\n",
       "      <td>...</td>\n",
       "      <td>...</td>\n",
       "    </tr>\n",
       "    <tr>\n",
       "      <th>103</th>\n",
       "      <td>12</td>\n",
       "      <td>IL ETAIT UNE FOIS DANS L'OUEST</td>\n",
       "      <td>LEONE Sergio</td>\n",
       "      <td>1969</td>\n",
       "      <td>Europe</td>\n",
       "      <td>2018</td>\n",
       "    </tr>\n",
       "    <tr>\n",
       "      <th>104</th>\n",
       "      <td>12</td>\n",
       "      <td>INCONTROLABLE</td>\n",
       "      <td>SHART Raffy</td>\n",
       "      <td>2005</td>\n",
       "      <td>France</td>\n",
       "      <td>2016</td>\n",
       "    </tr>\n",
       "    <tr>\n",
       "      <th>105</th>\n",
       "      <td>12</td>\n",
       "      <td>INCROYABLE HULK (L')</td>\n",
       "      <td>LETERRIER Louis</td>\n",
       "      <td>2008</td>\n",
       "      <td>Etats-Unis</td>\n",
       "      <td>2018</td>\n",
       "    </tr>\n",
       "    <tr>\n",
       "      <th>106</th>\n",
       "      <td>12</td>\n",
       "      <td>JO</td>\n",
       "      <td>GIRAULT Jean</td>\n",
       "      <td>1971</td>\n",
       "      <td>France</td>\n",
       "      <td>2018</td>\n",
       "    </tr>\n",
       "    <tr>\n",
       "      <th>107</th>\n",
       "      <td>12</td>\n",
       "      <td>JURASSIC PARK 3</td>\n",
       "      <td>JOHNSTON Joe</td>\n",
       "      <td>2001</td>\n",
       "      <td>Etats-Unis</td>\n",
       "      <td>2018</td>\n",
       "    </tr>\n",
       "    <tr>\n",
       "      <th>108</th>\n",
       "      <td>12</td>\n",
       "      <td>JUST MARRIED (OU PRESQUE)</td>\n",
       "      <td>MARSHALL Garry</td>\n",
       "      <td>1999</td>\n",
       "      <td>Etats-Unis</td>\n",
       "      <td>2018</td>\n",
       "    </tr>\n",
       "    <tr>\n",
       "      <th>109</th>\n",
       "      <td>12</td>\n",
       "      <td>MEDAILLON (LE)</td>\n",
       "      <td>CHAN Gordon</td>\n",
       "      <td>2003</td>\n",
       "      <td>Europe</td>\n",
       "      <td>2017</td>\n",
       "    </tr>\n",
       "    <tr>\n",
       "      <th>110</th>\n",
       "      <td>12</td>\n",
       "      <td>MEILLEURS AMIS DU MONDE (LES)</td>\n",
       "      <td>RAMBALDI Julien</td>\n",
       "      <td>2010</td>\n",
       "      <td>France</td>\n",
       "      <td>2018</td>\n",
       "    </tr>\n",
       "    <tr>\n",
       "      <th>111</th>\n",
       "      <td>12</td>\n",
       "      <td>MEMOIRE DANS LA PEAU (LA)</td>\n",
       "      <td>LIMAN Doug</td>\n",
       "      <td>2001</td>\n",
       "      <td>Etats-Unis</td>\n",
       "      <td>2018</td>\n",
       "    </tr>\n",
       "    <tr>\n",
       "      <th>112</th>\n",
       "      <td>12</td>\n",
       "      <td>MEN IN BLACK 2</td>\n",
       "      <td>SONNENFELD Barry</td>\n",
       "      <td>2002</td>\n",
       "      <td>Etats-Unis</td>\n",
       "      <td>2018</td>\n",
       "    </tr>\n",
       "    <tr>\n",
       "      <th>113</th>\n",
       "      <td>12</td>\n",
       "      <td>MONDE PERDU (LE)</td>\n",
       "      <td>SPIELBERG Steven</td>\n",
       "      <td>1997</td>\n",
       "      <td>Etats-Unis</td>\n",
       "      <td>2018</td>\n",
       "    </tr>\n",
       "    <tr>\n",
       "      <th>114</th>\n",
       "      <td>12</td>\n",
       "      <td>MORT DANS LA PEAU (LA)</td>\n",
       "      <td>GREENGRASS Paul</td>\n",
       "      <td>2004</td>\n",
       "      <td>Etats-Unis</td>\n",
       "      <td>2018</td>\n",
       "    </tr>\n",
       "    <tr>\n",
       "      <th>115</th>\n",
       "      <td>12</td>\n",
       "      <td>OSCAR</td>\n",
       "      <td>MOLINARO Edouard</td>\n",
       "      <td>1967</td>\n",
       "      <td>France</td>\n",
       "      <td>2018</td>\n",
       "    </tr>\n",
       "    <tr>\n",
       "      <th>116</th>\n",
       "      <td>12</td>\n",
       "      <td>POUR 100 BRIQUES T'AS PLUS RIEN</td>\n",
       "      <td>MOLINARO Edouard</td>\n",
       "      <td>1982</td>\n",
       "      <td>France</td>\n",
       "      <td>2018</td>\n",
       "    </tr>\n",
       "    <tr>\n",
       "      <th>117</th>\n",
       "      <td>12</td>\n",
       "      <td>REGRETS (LES)</td>\n",
       "      <td>KAHN Cédric</td>\n",
       "      <td>2008</td>\n",
       "      <td>France</td>\n",
       "      <td>2018</td>\n",
       "    </tr>\n",
       "    <tr>\n",
       "      <th>118</th>\n",
       "      <td>12</td>\n",
       "      <td>RETOUR VERS LE FUTUR</td>\n",
       "      <td>ZEMECKIS Robert</td>\n",
       "      <td>1985</td>\n",
       "      <td>Etats-Unis</td>\n",
       "      <td>2017</td>\n",
       "    </tr>\n",
       "    <tr>\n",
       "      <th>119</th>\n",
       "      <td>12</td>\n",
       "      <td>RETOUR VERS LE FUTUR 2</td>\n",
       "      <td>ZEMECKIS Robert</td>\n",
       "      <td>1989</td>\n",
       "      <td>Etats-Unis</td>\n",
       "      <td>2017</td>\n",
       "    </tr>\n",
       "    <tr>\n",
       "      <th>120</th>\n",
       "      <td>12</td>\n",
       "      <td>RETOUR VERS LE FUTUR 3</td>\n",
       "      <td>ZEMECKIS Robert</td>\n",
       "      <td>1990</td>\n",
       "      <td>Etats-Unis</td>\n",
       "      <td>2017</td>\n",
       "    </tr>\n",
       "    <tr>\n",
       "      <th>121</th>\n",
       "      <td>12</td>\n",
       "      <td>ROI ARTHUR (LE)</td>\n",
       "      <td>FUQUA Antoine</td>\n",
       "      <td>2003</td>\n",
       "      <td>Etats-Unis</td>\n",
       "      <td>2018</td>\n",
       "    </tr>\n",
       "    <tr>\n",
       "      <th>122</th>\n",
       "      <td>12</td>\n",
       "      <td>SAINT (LE)</td>\n",
       "      <td>NOYCE Phillip</td>\n",
       "      <td>1997</td>\n",
       "      <td>Europe</td>\n",
       "      <td>2018</td>\n",
       "    </tr>\n",
       "    <tr>\n",
       "      <th>123</th>\n",
       "      <td>12</td>\n",
       "      <td>SEPT ANS DE MARIAGE</td>\n",
       "      <td>BOURDON Didier</td>\n",
       "      <td>2003</td>\n",
       "      <td>France</td>\n",
       "      <td>2018</td>\n",
       "    </tr>\n",
       "    <tr>\n",
       "      <th>124</th>\n",
       "      <td>12</td>\n",
       "      <td>SOIF DE L'OR (LA)</td>\n",
       "      <td>OURY Gérard</td>\n",
       "      <td>1992</td>\n",
       "      <td>France</td>\n",
       "      <td>2016</td>\n",
       "    </tr>\n",
       "    <tr>\n",
       "      <th>125</th>\n",
       "      <td>12</td>\n",
       "      <td>TATIE DANIELLE</td>\n",
       "      <td>CHATILIEZ Etienne</td>\n",
       "      <td>1989</td>\n",
       "      <td>France</td>\n",
       "      <td>2018</td>\n",
       "    </tr>\n",
       "    <tr>\n",
       "      <th>126</th>\n",
       "      <td>12</td>\n",
       "      <td>TINTIN ET LE MYSTERE DE LA TOISON D'OR</td>\n",
       "      <td>VIERNE Jean-Jacques</td>\n",
       "      <td>1961</td>\n",
       "      <td>France</td>\n",
       "      <td>2018</td>\n",
       "    </tr>\n",
       "    <tr>\n",
       "      <th>127</th>\n",
       "      <td>12</td>\n",
       "      <td>TINTIN ET LES ORANGES BLEUES</td>\n",
       "      <td>CONDROYER Philippe</td>\n",
       "      <td>1964</td>\n",
       "      <td>France</td>\n",
       "      <td>2018</td>\n",
       "    </tr>\n",
       "    <tr>\n",
       "      <th>128</th>\n",
       "      <td>12</td>\n",
       "      <td>TROU NORMAND (LE)</td>\n",
       "      <td>BOYER Jean</td>\n",
       "      <td>1952</td>\n",
       "      <td>France</td>\n",
       "      <td>2017</td>\n",
       "    </tr>\n",
       "    <tr>\n",
       "      <th>129</th>\n",
       "      <td>12</td>\n",
       "      <td>UN TICKET POUR L'ESPACE</td>\n",
       "      <td>LARTIGAU Eric</td>\n",
       "      <td>2005</td>\n",
       "      <td>France</td>\n",
       "      <td>2018</td>\n",
       "    </tr>\n",
       "    <tr>\n",
       "      <th>130</th>\n",
       "      <td>12</td>\n",
       "      <td>VENGEANCE DU SERPENT A PLUMES (LA)</td>\n",
       "      <td>OURY Gérard</td>\n",
       "      <td>1984</td>\n",
       "      <td>France</td>\n",
       "      <td>2017</td>\n",
       "    </tr>\n",
       "    <tr>\n",
       "      <th>131</th>\n",
       "      <td>12</td>\n",
       "      <td>X-MEN</td>\n",
       "      <td>SINGER Bryan</td>\n",
       "      <td>2000</td>\n",
       "      <td>Etats-Unis</td>\n",
       "      <td>2018</td>\n",
       "    </tr>\n",
       "    <tr>\n",
       "      <th>132</th>\n",
       "      <td>12</td>\n",
       "      <td>XXX2 : THE NEXT LEVEL</td>\n",
       "      <td>TAMAHORI Lee</td>\n",
       "      <td>2004</td>\n",
       "      <td>Etats-Unis</td>\n",
       "      <td>2016</td>\n",
       "    </tr>\n",
       "  </tbody>\n",
       "</table>\n",
       "<p>133 rows × 6 columns</p>\n",
       "</div>"
      ],
      "text/plain": [
       "     nombre de diffusions                                          titre  \\\n",
       "0                      19                         11 COMMANDEMENTS (LES)   \n",
       "1                      18                       ASTERIX CHEZ LES BRETONS   \n",
       "2                      18                   TINTIN ET LE LAC AUX REQUINS   \n",
       "3                      17                                          CHAOS   \n",
       "4                      17  DEUX HEURES MOINS LE QUART AVANT JESUS-CHRIST   \n",
       "5                      17                  DOUZE TRAVAUX D'ASTERIX (LES)   \n",
       "6                      17                 FAST AND FURIOUS : TOKYO DRIFT   \n",
       "7                      16                ASTERIX ET LA SURPRISE DE CESAR   \n",
       "8                      16                                       BANDIDAS   \n",
       "9                      16                        BIDASSES EN FOLIE (LES)   \n",
       "10                     16                                  FLIC OU VOYOU   \n",
       "11                     16       LIGUE DES GENTLEMEN EXTRAORDINAIRES (LA)   \n",
       "12                     16                                     P.R.O.F.S.   \n",
       "13                     16                  TINTIN ET LE TEMPLE DU SOLEIL   \n",
       "14                     16         VIE EST UN LONG FLEUVE TRANQUILLE (LA)   \n",
       "15                     15     4 FANTASTIQUES ET LE SURFER D'ARGENT (LES)   \n",
       "16                     15                           ASTERIX ET CLEOPATRE   \n",
       "17                     15                   ASTERIX ET LE COUP DU MENHIR   \n",
       "18                     15                         ASTERIX ET LES INDIENS   \n",
       "19                     15                             ASTERIX LE GAULOIS   \n",
       "20                     15                        CHATEAU DE MA MERE (LE)   \n",
       "21                     15                             COMME T'Y ES BELLE   \n",
       "22                     15                    KING RISING : AU NOM DU ROI   \n",
       "23                     15                                         NIKITA   \n",
       "24                     15                                         SAHARA   \n",
       "25                     15                                 SCOUT TOUJOURS   \n",
       "26                     15               TOUR MONTPARNASSE INFERNALE (LA)   \n",
       "27                     15                                V POUR VENDETTA   \n",
       "28                     15                                       YAMAKASI   \n",
       "29                     14                                         3 AMIS   \n",
       "..                    ...                                            ...   \n",
       "103                    12                 IL ETAIT UNE FOIS DANS L'OUEST   \n",
       "104                    12                                  INCONTROLABLE   \n",
       "105                    12                           INCROYABLE HULK (L')   \n",
       "106                    12                                             JO   \n",
       "107                    12                                JURASSIC PARK 3   \n",
       "108                    12                      JUST MARRIED (OU PRESQUE)   \n",
       "109                    12                                 MEDAILLON (LE)   \n",
       "110                    12                  MEILLEURS AMIS DU MONDE (LES)   \n",
       "111                    12                      MEMOIRE DANS LA PEAU (LA)   \n",
       "112                    12                                 MEN IN BLACK 2   \n",
       "113                    12                               MONDE PERDU (LE)   \n",
       "114                    12                         MORT DANS LA PEAU (LA)   \n",
       "115                    12                                          OSCAR   \n",
       "116                    12                POUR 100 BRIQUES T'AS PLUS RIEN   \n",
       "117                    12                                  REGRETS (LES)   \n",
       "118                    12                           RETOUR VERS LE FUTUR   \n",
       "119                    12                         RETOUR VERS LE FUTUR 2   \n",
       "120                    12                         RETOUR VERS LE FUTUR 3   \n",
       "121                    12                                ROI ARTHUR (LE)   \n",
       "122                    12                                     SAINT (LE)   \n",
       "123                    12                            SEPT ANS DE MARIAGE   \n",
       "124                    12                              SOIF DE L'OR (LA)   \n",
       "125                    12                                 TATIE DANIELLE   \n",
       "126                    12         TINTIN ET LE MYSTERE DE LA TOISON D'OR   \n",
       "127                    12                   TINTIN ET LES ORANGES BLEUES   \n",
       "128                    12                              TROU NORMAND (LE)   \n",
       "129                    12                        UN TICKET POUR L'ESPACE   \n",
       "130                    12             VENGEANCE DU SERPENT A PLUMES (LA)   \n",
       "131                    12                                          X-MEN   \n",
       "132                    12                          XXX2 : THE NEXT LEVEL   \n",
       "\n",
       "                            réalisateurs  année de production nationalité  \\\n",
       "0    DESAGNAT François / SORRIAUX Thomas                 2003      France   \n",
       "1                    VAN LAMSWEERDE Pino                 1985      France   \n",
       "2                        LEBLANC Raymond                 1972      France   \n",
       "3                            GIGLIO Tony                 2004      Europe   \n",
       "4                             YANNE Jean                 1982      France   \n",
       "5          GOSCINNY René / UDERZO Albert                 1975      France   \n",
       "6                             LIN Justin                 2005  Etats-Unis   \n",
       "7            BRIZZI Gaëtan / BRIZZI Paul                 1985      France   \n",
       "8      ROENNING Joachim / SANDBERG Espen                 2005      France   \n",
       "9                            ZIDI Claude                 1971      France   \n",
       "10                       LAUTNER Georges                 1979      France   \n",
       "11                    NORRINGTON Stephen                 2003  Etats-Unis   \n",
       "12                     SCHULMANN Patrick                 1985      France   \n",
       "13                       LEBLANC Raymond                 1969      France   \n",
       "14                     CHATILIEZ Etienne                 1987      France   \n",
       "15                             STORY Tim                 2007  Etats-Unis   \n",
       "16         GOSCINNY René / UDERZO Albert                 1968      France   \n",
       "17                      GRIMOND Philippe                 1988      France   \n",
       "18                          HAHN Gerhard                 1994      Europe   \n",
       "19         GOSCINNY René / UDERZO Albert                 1967      France   \n",
       "20                           ROBERT Yves                 1989      France   \n",
       "21                          AZUELOS Lisa                 2004      France   \n",
       "22                              BOLL Uwe                 2007      Europe   \n",
       "23                            BESSON Luc                 1989      France   \n",
       "24                          EISNER Breck                 2004      Europe   \n",
       "25                         JUGNOT Gérard                 1985      France   \n",
       "26                         NEMES Charles                 2000      France   \n",
       "27                        MCTEIGUE James                 2005      Europe   \n",
       "28                         ZEITOUN Ariel                 2000      France   \n",
       "29                       BOUJENAH Michel                 2006      France   \n",
       "..                                   ...                  ...         ...   \n",
       "103                         LEONE Sergio                 1969      Europe   \n",
       "104                          SHART Raffy                 2005      France   \n",
       "105                      LETERRIER Louis                 2008  Etats-Unis   \n",
       "106                         GIRAULT Jean                 1971      France   \n",
       "107                         JOHNSTON Joe                 2001  Etats-Unis   \n",
       "108                       MARSHALL Garry                 1999  Etats-Unis   \n",
       "109                          CHAN Gordon                 2003      Europe   \n",
       "110                      RAMBALDI Julien                 2010      France   \n",
       "111                           LIMAN Doug                 2001  Etats-Unis   \n",
       "112                     SONNENFELD Barry                 2002  Etats-Unis   \n",
       "113                     SPIELBERG Steven                 1997  Etats-Unis   \n",
       "114                      GREENGRASS Paul                 2004  Etats-Unis   \n",
       "115                     MOLINARO Edouard                 1967      France   \n",
       "116                     MOLINARO Edouard                 1982      France   \n",
       "117                          KAHN Cédric                 2008      France   \n",
       "118                      ZEMECKIS Robert                 1985  Etats-Unis   \n",
       "119                      ZEMECKIS Robert                 1989  Etats-Unis   \n",
       "120                      ZEMECKIS Robert                 1990  Etats-Unis   \n",
       "121                        FUQUA Antoine                 2003  Etats-Unis   \n",
       "122                        NOYCE Phillip                 1997      Europe   \n",
       "123                       BOURDON Didier                 2003      France   \n",
       "124                          OURY Gérard                 1992      France   \n",
       "125                    CHATILIEZ Etienne                 1989      France   \n",
       "126                  VIERNE Jean-Jacques                 1961      France   \n",
       "127                   CONDROYER Philippe                 1964      France   \n",
       "128                           BOYER Jean                 1952      France   \n",
       "129                        LARTIGAU Eric                 2005      France   \n",
       "130                          OURY Gérard                 1984      France   \n",
       "131                         SINGER Bryan                 2000  Etats-Unis   \n",
       "132                         TAMAHORI Lee                 2004  Etats-Unis   \n",
       "\n",
       "     année de dernière diffusion  \n",
       "0                           2018  \n",
       "1                           2018  \n",
       "2                           2018  \n",
       "3                           2018  \n",
       "4                           2018  \n",
       "5                           2018  \n",
       "6                           2018  \n",
       "7                           2018  \n",
       "8                           2018  \n",
       "9                           2018  \n",
       "10                          2018  \n",
       "11                          2018  \n",
       "12                          2018  \n",
       "13                          2018  \n",
       "14                          2018  \n",
       "15                          2018  \n",
       "16                          2018  \n",
       "17                          2018  \n",
       "18                          2018  \n",
       "19                          2018  \n",
       "20                          2018  \n",
       "21                          2018  \n",
       "22                          2018  \n",
       "23                          2018  \n",
       "24                          2018  \n",
       "25                          2018  \n",
       "26                          2018  \n",
       "27                          2018  \n",
       "28                          2017  \n",
       "29                          2018  \n",
       "..                           ...  \n",
       "103                         2018  \n",
       "104                         2016  \n",
       "105                         2018  \n",
       "106                         2018  \n",
       "107                         2018  \n",
       "108                         2018  \n",
       "109                         2017  \n",
       "110                         2018  \n",
       "111                         2018  \n",
       "112                         2018  \n",
       "113                         2018  \n",
       "114                         2018  \n",
       "115                         2018  \n",
       "116                         2018  \n",
       "117                         2018  \n",
       "118                         2017  \n",
       "119                         2017  \n",
       "120                         2017  \n",
       "121                         2018  \n",
       "122                         2018  \n",
       "123                         2018  \n",
       "124                         2016  \n",
       "125                         2018  \n",
       "126                         2018  \n",
       "127                         2018  \n",
       "128                         2017  \n",
       "129                         2018  \n",
       "130                         2017  \n",
       "131                         2018  \n",
       "132                         2016  \n",
       "\n",
       "[133 rows x 6 columns]"
      ]
     },
     "execution_count": 5,
     "metadata": {},
     "output_type": "execute_result"
    }
   ],
   "source": [
    "monfichier\n"
   ]
  },
  {
   "cell_type": "markdown",
   "metadata": {},
   "source": [
    "Soit en utilisant la fonction\n",
    "```python\n",
    "print()```\n",
    "dans votre éditeur de code. A vous de jouer !"
   ]
  },
  {
   "cell_type": "code",
   "execution_count": 6,
   "metadata": {},
   "outputs": [
    {
     "name": "stdout",
     "output_type": "stream",
     "text": [
      "     nombre de diffusions                                          titre  \\\n",
      "0                      19                         11 COMMANDEMENTS (LES)   \n",
      "1                      18                       ASTERIX CHEZ LES BRETONS   \n",
      "2                      18                   TINTIN ET LE LAC AUX REQUINS   \n",
      "3                      17                                          CHAOS   \n",
      "4                      17  DEUX HEURES MOINS LE QUART AVANT JESUS-CHRIST   \n",
      "5                      17                  DOUZE TRAVAUX D'ASTERIX (LES)   \n",
      "6                      17                 FAST AND FURIOUS : TOKYO DRIFT   \n",
      "7                      16                ASTERIX ET LA SURPRISE DE CESAR   \n",
      "8                      16                                       BANDIDAS   \n",
      "9                      16                        BIDASSES EN FOLIE (LES)   \n",
      "10                     16                                  FLIC OU VOYOU   \n",
      "11                     16       LIGUE DES GENTLEMEN EXTRAORDINAIRES (LA)   \n",
      "12                     16                                     P.R.O.F.S.   \n",
      "13                     16                  TINTIN ET LE TEMPLE DU SOLEIL   \n",
      "14                     16         VIE EST UN LONG FLEUVE TRANQUILLE (LA)   \n",
      "15                     15     4 FANTASTIQUES ET LE SURFER D'ARGENT (LES)   \n",
      "16                     15                           ASTERIX ET CLEOPATRE   \n",
      "17                     15                   ASTERIX ET LE COUP DU MENHIR   \n",
      "18                     15                         ASTERIX ET LES INDIENS   \n",
      "19                     15                             ASTERIX LE GAULOIS   \n",
      "20                     15                        CHATEAU DE MA MERE (LE)   \n",
      "21                     15                             COMME T'Y ES BELLE   \n",
      "22                     15                    KING RISING : AU NOM DU ROI   \n",
      "23                     15                                         NIKITA   \n",
      "24                     15                                         SAHARA   \n",
      "25                     15                                 SCOUT TOUJOURS   \n",
      "26                     15               TOUR MONTPARNASSE INFERNALE (LA)   \n",
      "27                     15                                V POUR VENDETTA   \n",
      "28                     15                                       YAMAKASI   \n",
      "29                     14                                         3 AMIS   \n",
      "..                    ...                                            ...   \n",
      "103                    12                 IL ETAIT UNE FOIS DANS L'OUEST   \n",
      "104                    12                                  INCONTROLABLE   \n",
      "105                    12                           INCROYABLE HULK (L')   \n",
      "106                    12                                             JO   \n",
      "107                    12                                JURASSIC PARK 3   \n",
      "108                    12                      JUST MARRIED (OU PRESQUE)   \n",
      "109                    12                                 MEDAILLON (LE)   \n",
      "110                    12                  MEILLEURS AMIS DU MONDE (LES)   \n",
      "111                    12                      MEMOIRE DANS LA PEAU (LA)   \n",
      "112                    12                                 MEN IN BLACK 2   \n",
      "113                    12                               MONDE PERDU (LE)   \n",
      "114                    12                         MORT DANS LA PEAU (LA)   \n",
      "115                    12                                          OSCAR   \n",
      "116                    12                POUR 100 BRIQUES T'AS PLUS RIEN   \n",
      "117                    12                                  REGRETS (LES)   \n",
      "118                    12                           RETOUR VERS LE FUTUR   \n",
      "119                    12                         RETOUR VERS LE FUTUR 2   \n",
      "120                    12                         RETOUR VERS LE FUTUR 3   \n",
      "121                    12                                ROI ARTHUR (LE)   \n",
      "122                    12                                     SAINT (LE)   \n",
      "123                    12                            SEPT ANS DE MARIAGE   \n",
      "124                    12                              SOIF DE L'OR (LA)   \n",
      "125                    12                                 TATIE DANIELLE   \n",
      "126                    12         TINTIN ET LE MYSTERE DE LA TOISON D'OR   \n",
      "127                    12                   TINTIN ET LES ORANGES BLEUES   \n",
      "128                    12                              TROU NORMAND (LE)   \n",
      "129                    12                        UN TICKET POUR L'ESPACE   \n",
      "130                    12             VENGEANCE DU SERPENT A PLUMES (LA)   \n",
      "131                    12                                          X-MEN   \n",
      "132                    12                          XXX2 : THE NEXT LEVEL   \n",
      "\n",
      "                            réalisateurs  année de production nationalité  \\\n",
      "0    DESAGNAT François / SORRIAUX Thomas                 2003      France   \n",
      "1                    VAN LAMSWEERDE Pino                 1985      France   \n",
      "2                        LEBLANC Raymond                 1972      France   \n",
      "3                            GIGLIO Tony                 2004      Europe   \n",
      "4                             YANNE Jean                 1982      France   \n",
      "5          GOSCINNY René / UDERZO Albert                 1975      France   \n",
      "6                             LIN Justin                 2005  Etats-Unis   \n",
      "7            BRIZZI Gaëtan / BRIZZI Paul                 1985      France   \n",
      "8      ROENNING Joachim / SANDBERG Espen                 2005      France   \n",
      "9                            ZIDI Claude                 1971      France   \n",
      "10                       LAUTNER Georges                 1979      France   \n",
      "11                    NORRINGTON Stephen                 2003  Etats-Unis   \n",
      "12                     SCHULMANN Patrick                 1985      France   \n",
      "13                       LEBLANC Raymond                 1969      France   \n",
      "14                     CHATILIEZ Etienne                 1987      France   \n",
      "15                             STORY Tim                 2007  Etats-Unis   \n",
      "16         GOSCINNY René / UDERZO Albert                 1968      France   \n",
      "17                      GRIMOND Philippe                 1988      France   \n",
      "18                          HAHN Gerhard                 1994      Europe   \n",
      "19         GOSCINNY René / UDERZO Albert                 1967      France   \n",
      "20                           ROBERT Yves                 1989      France   \n",
      "21                          AZUELOS Lisa                 2004      France   \n",
      "22                              BOLL Uwe                 2007      Europe   \n",
      "23                            BESSON Luc                 1989      France   \n",
      "24                          EISNER Breck                 2004      Europe   \n",
      "25                         JUGNOT Gérard                 1985      France   \n",
      "26                         NEMES Charles                 2000      France   \n",
      "27                        MCTEIGUE James                 2005      Europe   \n",
      "28                         ZEITOUN Ariel                 2000      France   \n",
      "29                       BOUJENAH Michel                 2006      France   \n",
      "..                                   ...                  ...         ...   \n",
      "103                         LEONE Sergio                 1969      Europe   \n",
      "104                          SHART Raffy                 2005      France   \n",
      "105                      LETERRIER Louis                 2008  Etats-Unis   \n",
      "106                         GIRAULT Jean                 1971      France   \n",
      "107                         JOHNSTON Joe                 2001  Etats-Unis   \n",
      "108                       MARSHALL Garry                 1999  Etats-Unis   \n",
      "109                          CHAN Gordon                 2003      Europe   \n",
      "110                      RAMBALDI Julien                 2010      France   \n",
      "111                           LIMAN Doug                 2001  Etats-Unis   \n",
      "112                     SONNENFELD Barry                 2002  Etats-Unis   \n",
      "113                     SPIELBERG Steven                 1997  Etats-Unis   \n",
      "114                      GREENGRASS Paul                 2004  Etats-Unis   \n",
      "115                     MOLINARO Edouard                 1967      France   \n",
      "116                     MOLINARO Edouard                 1982      France   \n",
      "117                          KAHN Cédric                 2008      France   \n",
      "118                      ZEMECKIS Robert                 1985  Etats-Unis   \n",
      "119                      ZEMECKIS Robert                 1989  Etats-Unis   \n",
      "120                      ZEMECKIS Robert                 1990  Etats-Unis   \n",
      "121                        FUQUA Antoine                 2003  Etats-Unis   \n",
      "122                        NOYCE Phillip                 1997      Europe   \n",
      "123                       BOURDON Didier                 2003      France   \n",
      "124                          OURY Gérard                 1992      France   \n",
      "125                    CHATILIEZ Etienne                 1989      France   \n",
      "126                  VIERNE Jean-Jacques                 1961      France   \n",
      "127                   CONDROYER Philippe                 1964      France   \n",
      "128                           BOYER Jean                 1952      France   \n",
      "129                        LARTIGAU Eric                 2005      France   \n",
      "130                          OURY Gérard                 1984      France   \n",
      "131                         SINGER Bryan                 2000  Etats-Unis   \n",
      "132                         TAMAHORI Lee                 2004  Etats-Unis   \n",
      "\n",
      "     année de dernière diffusion  \n",
      "0                           2018  \n",
      "1                           2018  \n",
      "2                           2018  \n",
      "3                           2018  \n",
      "4                           2018  \n",
      "5                           2018  \n",
      "6                           2018  \n",
      "7                           2018  \n",
      "8                           2018  \n",
      "9                           2018  \n",
      "10                          2018  \n",
      "11                          2018  \n",
      "12                          2018  \n",
      "13                          2018  \n",
      "14                          2018  \n",
      "15                          2018  \n",
      "16                          2018  \n",
      "17                          2018  \n",
      "18                          2018  \n",
      "19                          2018  \n",
      "20                          2018  \n",
      "21                          2018  \n",
      "22                          2018  \n",
      "23                          2018  \n",
      "24                          2018  \n",
      "25                          2018  \n",
      "26                          2018  \n",
      "27                          2018  \n",
      "28                          2017  \n",
      "29                          2018  \n",
      "..                           ...  \n",
      "103                         2018  \n",
      "104                         2016  \n",
      "105                         2018  \n",
      "106                         2018  \n",
      "107                         2018  \n",
      "108                         2018  \n",
      "109                         2017  \n",
      "110                         2018  \n",
      "111                         2018  \n",
      "112                         2018  \n",
      "113                         2018  \n",
      "114                         2018  \n",
      "115                         2018  \n",
      "116                         2018  \n",
      "117                         2018  \n",
      "118                         2017  \n",
      "119                         2017  \n",
      "120                         2017  \n",
      "121                         2018  \n",
      "122                         2018  \n",
      "123                         2018  \n",
      "124                         2016  \n",
      "125                         2018  \n",
      "126                         2018  \n",
      "127                         2018  \n",
      "128                         2017  \n",
      "129                         2018  \n",
      "130                         2017  \n",
      "131                         2018  \n",
      "132                         2016  \n",
      "\n",
      "[133 rows x 6 columns]\n"
     ]
    }
   ],
   "source": [
    "print(monfichier)"
   ]
  },
  {
   "cell_type": "markdown",
   "metadata": {},
   "source": [
    "## Jouons avec les données"
   ]
  },
  {
   "cell_type": "markdown",
   "metadata": {},
   "source": [
    "Vous remarquerez qu'on ne voit pas grand-chose.... Par défaut, pandas n'affiche qu'un certain nombre d'enregistrements et de colonnes.  \n",
    "Changeons cela immédiatement !"
   ]
  },
  {
   "cell_type": "code",
   "execution_count": 7,
   "metadata": {},
   "outputs": [],
   "source": [
    "pandas.options.display.max_rows = 10\n",
    "pandas.options.display.max_columns = 6"
   ]
  },
  {
   "cell_type": "markdown",
   "metadata": {},
   "source": [
    "### Les descripteurs"
   ]
  },
  {
   "cell_type": "markdown",
   "metadata": {},
   "source": [
    "Nous savons déterminer le nombre de descripteurs dans un fichier csv, mais il serait intéressant alors de connaître ces\n",
    "descripteurs. Allons-y ! Mais n'oubliez pas : toutes ces instructions ont pour rôle d'afficher des données à l'écran donc en console, la fonction *print()* n'est pas nécessaire."
   ]
  },
  {
   "cell_type": "code",
   "execution_count": 8,
   "metadata": {},
   "outputs": [
    {
     "name": "stdout",
     "output_type": "stream",
     "text": [
      "Index(['nombre de diffusions', 'titre', 'réalisateurs', 'année de production',\n",
      "       'nationalité', 'année de dernière diffusion'],\n",
      "      dtype='object')\n"
     ]
    }
   ],
   "source": [
    "print(monfichier.columns)"
   ]
  },
  {
   "cell_type": "markdown",
   "metadata": {},
   "source": [
    "On peut très bien, maintenant que nous connaissons les descripteurs, avoir envie ou besoin d'obtenir uniquement les valeurs d'une colonne en particulier..."
   ]
  },
  {
   "cell_type": "code",
   "execution_count": 9,
   "metadata": {},
   "outputs": [
    {
     "name": "stdout",
     "output_type": "stream",
     "text": [
      "                            réalisateurs\n",
      "0    DESAGNAT François / SORRIAUX Thomas\n",
      "1                    VAN LAMSWEERDE Pino\n",
      "2                        LEBLANC Raymond\n",
      "3                            GIGLIO Tony\n",
      "4                             YANNE Jean\n",
      "..                                   ...\n",
      "128                           BOYER Jean\n",
      "129                        LARTIGAU Eric\n",
      "130                          OURY Gérard\n",
      "131                         SINGER Bryan\n",
      "132                         TAMAHORI Lee\n",
      "\n",
      "[133 rows x 1 columns]\n"
     ]
    }
   ],
   "source": [
    "print(monfichier[['réalisateurs']])"
   ]
  },
  {
   "cell_type": "markdown",
   "metadata": {},
   "source": [
    "Copiez  cette instruction pour la tester."
   ]
  },
  {
   "cell_type": "markdown",
   "metadata": {},
   "source": [
    "On peut aussi afficher les valeurs de plusieurs colonnes choisies !"
   ]
  },
  {
   "cell_type": "code",
   "execution_count": 10,
   "metadata": {},
   "outputs": [
    {
     "name": "stdout",
     "output_type": "stream",
     "text": [
      "                            réalisateurs nationalité\n",
      "0    DESAGNAT François / SORRIAUX Thomas      France\n",
      "1                    VAN LAMSWEERDE Pino      France\n",
      "2                        LEBLANC Raymond      France\n",
      "3                            GIGLIO Tony      Europe\n",
      "4                             YANNE Jean      France\n",
      "..                                   ...         ...\n",
      "128                           BOYER Jean      France\n",
      "129                        LARTIGAU Eric      France\n",
      "130                          OURY Gérard      France\n",
      "131                         SINGER Bryan  Etats-Unis\n",
      "132                         TAMAHORI Lee  Etats-Unis\n",
      "\n",
      "[133 rows x 2 columns]\n"
     ]
    }
   ],
   "source": [
    "print(monfichier[['réalisateurs','nationalité']])"
   ]
  },
  {
   "cell_type": "markdown",
   "metadata": {},
   "source": [
    "---\n",
    "**QUESTIONS A**\n",
    "\n",
    "---\n",
    "1. QUELLE INSTRUCTION PERMET DE DÉTERMINER LE NOMBRE D'ENREGISTREMENTS ?\n",
    "2. COMBIEN Y-A-T'IL D'ENREGISTREMENTS DANS CETTE COLLECTION ?\n",
    "3. QUELLE INSTRUCTION PERMET D'OBTENIR UNIQUEMENT LES COLONNES CONTENANT LE NOM DES FILMS ET LEUR ANNÉE DE PRODUCTION ? VOUS FEREZ UNE CAPTURE D'ÉCRAN DU RÉSULTAT DE CETTE INSTRUCTION ET VOUS LA COLLEREZ.\n",
    "---"
   ]
  },
  {
   "cell_type": "markdown",
   "metadata": {},
   "source": [
    "### Nombre de lignes..."
   ]
  },
  {
   "cell_type": "code",
   "execution_count": 11,
   "metadata": {},
   "outputs": [
    {
     "data": {
      "text/plain": [
       "RangeIndex(start=0, stop=133, step=1)"
      ]
     },
     "execution_count": 11,
     "metadata": {},
     "output_type": "execute_result"
    }
   ],
   "source": [
    "monfichier.index"
   ]
  },
  {
   "cell_type": "markdown",
   "metadata": {},
   "source": [
    "### Afficher des lignes par leur index###"
   ]
  },
  {
   "cell_type": "markdown",
   "metadata": {},
   "source": [
    "Affichons les enregistrements 5, 15 et 65 :"
   ]
  },
  {
   "cell_type": "code",
   "execution_count": 12,
   "metadata": {},
   "outputs": [
    {
     "data": {
      "text/html": [
       "<div>\n",
       "<style scoped>\n",
       "    .dataframe tbody tr th:only-of-type {\n",
       "        vertical-align: middle;\n",
       "    }\n",
       "\n",
       "    .dataframe tbody tr th {\n",
       "        vertical-align: top;\n",
       "    }\n",
       "\n",
       "    .dataframe thead th {\n",
       "        text-align: right;\n",
       "    }\n",
       "</style>\n",
       "<table border=\"1\" class=\"dataframe\">\n",
       "  <thead>\n",
       "    <tr style=\"text-align: right;\">\n",
       "      <th></th>\n",
       "      <th>nombre de diffusions</th>\n",
       "      <th>titre</th>\n",
       "      <th>réalisateurs</th>\n",
       "      <th>année de production</th>\n",
       "      <th>nationalité</th>\n",
       "      <th>année de dernière diffusion</th>\n",
       "    </tr>\n",
       "  </thead>\n",
       "  <tbody>\n",
       "    <tr>\n",
       "      <th>5</th>\n",
       "      <td>17</td>\n",
       "      <td>DOUZE TRAVAUX D'ASTERIX (LES)</td>\n",
       "      <td>GOSCINNY René / UDERZO Albert</td>\n",
       "      <td>1975</td>\n",
       "      <td>France</td>\n",
       "      <td>2018</td>\n",
       "    </tr>\n",
       "    <tr>\n",
       "      <th>15</th>\n",
       "      <td>15</td>\n",
       "      <td>4 FANTASTIQUES ET LE SURFER D'ARGENT (LES)</td>\n",
       "      <td>STORY Tim</td>\n",
       "      <td>2007</td>\n",
       "      <td>Etats-Unis</td>\n",
       "      <td>2018</td>\n",
       "    </tr>\n",
       "    <tr>\n",
       "      <th>65</th>\n",
       "      <td>13</td>\n",
       "      <td>INCASSABLE</td>\n",
       "      <td>NIGHT SHYAMALAN Manoj</td>\n",
       "      <td>2000</td>\n",
       "      <td>Etats-Unis</td>\n",
       "      <td>2018</td>\n",
       "    </tr>\n",
       "  </tbody>\n",
       "</table>\n",
       "</div>"
      ],
      "text/plain": [
       "    nombre de diffusions                                       titre  \\\n",
       "5                     17               DOUZE TRAVAUX D'ASTERIX (LES)   \n",
       "15                    15  4 FANTASTIQUES ET LE SURFER D'ARGENT (LES)   \n",
       "65                    13                                  INCASSABLE   \n",
       "\n",
       "                     réalisateurs  année de production nationalité  \\\n",
       "5   GOSCINNY René / UDERZO Albert                 1975      France   \n",
       "15                      STORY Tim                 2007  Etats-Unis   \n",
       "65          NIGHT SHYAMALAN Manoj                 2000  Etats-Unis   \n",
       "\n",
       "    année de dernière diffusion  \n",
       "5                          2018  \n",
       "15                         2018  \n",
       "65                         2018  "
      ]
     },
     "execution_count": 12,
     "metadata": {},
     "output_type": "execute_result"
    }
   ],
   "source": [
    "monfichier.iloc[[5,15,65]]"
   ]
  },
  {
   "cell_type": "markdown",
   "metadata": {},
   "source": [
    "Tentez d'affichez les enregistrements allant de 13 jusque 20.\n",
    "    \n",
    "*Aide : quelle symbole utilise-t-on dans une cellule d'un tableur signifiant 'jusque' ?*"
   ]
  },
  {
   "cell_type": "markdown",
   "metadata": {},
   "source": [
    "---\n",
    "**QUESTIONS B**\n",
    "\n",
    "---\n",
    "1. QUELLE INSTRUCTION PERMET D'AFFICHER LES ENREGISTREMENTS DU 50ÈME AU 65ÈME ? CAPTUREZ LE RÉSULTAT DE CETTE INSTRUCTION ET COLLEZ CETTE CAPTURE.\n",
    "2. QUE RENVOIT L'INSTRUCTION 'monfichier.iloc[120,:]' ?\n",
    "---"
   ]
  },
  {
   "cell_type": "markdown",
   "metadata": {},
   "source": [
    "## Effectuer des recherches"
   ]
  },
  {
   "cell_type": "markdown",
   "metadata": {},
   "source": [
    "L'intérêt d'utiliser Python pour manipuler des données est que, d'une part, ce dernier a de nombreux outils performants pour effectuer des recherches et manipuler du texte, et d'autre part que nous pouvons automatiser ces manipulations.\n",
    "\n",
    "Par exemple, on peut envisager la création d'un algorithme qui détecterait des doublons dans une playlist et les supprimerait."
   ]
  },
  {
   "cell_type": "markdown",
   "metadata": {},
   "source": [
    "### Récupérer une valeur dans un enregistrement dont l'index est connu###"
   ]
  },
  {
   "cell_type": "markdown",
   "metadata": {},
   "source": [
    "Il faut avoir en tête les descripteurs... ou utiliser la fonction qui nous permet de les récupérer."
   ]
  },
  {
   "cell_type": "markdown",
   "metadata": {},
   "source": [
    "---\n",
    "\n",
    "**QUESTION C**\n",
    "\n",
    "---\n",
    "1. RAPPELEZ L'INSTRUCTION PERMETTANT D'OBTENIR LA LISTE DES DESCRIPTEURS DE LA COLLECTION. COLLEZ ICI LE RÉSULTAT DE CETTE INSTRUCTION.\n",
    "\n",
    "---"
   ]
  },
  {
   "cell_type": "markdown",
   "metadata": {},
   "source": [
    "Copiez le code suivant dans la console."
   ]
  },
  {
   "cell_type": "code",
   "execution_count": 13,
   "metadata": {
    "scrolled": false
   },
   "outputs": [
    {
     "name": "stdout",
     "output_type": "stream",
     "text": [
      "Le nom du film en 35ème position dans cette liste est : CROCODILE DUNDEE 2\n"
     ]
    }
   ],
   "source": [
    "recherche = monfichier.loc[35,'titre']\n",
    "print(\"Le nom du film en 35ème position dans cette liste est :\", format(recherche))"
   ]
  },
  {
   "cell_type": "markdown",
   "metadata": {},
   "source": [
    "---\n",
    "**QUESTION D**\n",
    "\n",
    "---\n",
    "\n",
    "1. NOTEZ L'INSTRUCTION PERMETTANT D'OBTENIR LA DERNIÈRE ANNÉE DE DIFFUSION DU 103 ÈME ENREGISTREMENT. COLLEZ UNE CAPTURE DU RÉSULTAT.\n",
    "\n",
    "---"
   ]
  },
  {
   "cell_type": "markdown",
   "metadata": {},
   "source": [
    "### Récupérer les enregistrements vérifiant une condition donnée :###\n",
    "\n",
    "On peut vouloir connaître tous les enregistrements de la collection dont le réalisateur est 'ZEMECKIS Robert' :"
   ]
  },
  {
   "cell_type": "code",
   "execution_count": 14,
   "metadata": {},
   "outputs": [
    {
     "name": "stdout",
     "output_type": "stream",
     "text": [
      "     nombre de diffusions                   titre     réalisateurs  \\\n",
      "96                     12            FORREST GUMP  ZEMECKIS Robert   \n",
      "118                    12    RETOUR VERS LE FUTUR  ZEMECKIS Robert   \n",
      "119                    12  RETOUR VERS LE FUTUR 2  ZEMECKIS Robert   \n",
      "120                    12  RETOUR VERS LE FUTUR 3  ZEMECKIS Robert   \n",
      "\n",
      "     année de production nationalité  année de dernière diffusion  \n",
      "96                  1993  Etats-Unis                         2018  \n",
      "118                 1985  Etats-Unis                         2017  \n",
      "119                 1989  Etats-Unis                         2017  \n",
      "120                 1990  Etats-Unis                         2017  \n"
     ]
    }
   ],
   "source": [
    "recherche2 = monfichier.loc[(monfichier['réalisateurs'] == 'ZEMECKIS Robert'),:]\n",
    "print(recherche2)"
   ]
  },
  {
   "cell_type": "markdown",
   "metadata": {},
   "source": [
    "Ou alors, pour une présentation plus élégante (mais uniquement en console) : 'recherche2'."
   ]
  },
  {
   "cell_type": "markdown",
   "metadata": {},
   "source": [
    "---\n",
    "**QUESTIONS E**\n",
    "\n",
    "---\n",
    "1. QUELLE EST L'INSTRUCTION PERMETTANT D'OBTENIR LA LISTE DES FILMS AMÉRICAINS ? COLLEZ UNE CAPTURE DU RÉSULTAT.\n",
    "2. RAPPELEZ L'INSTRUCTION PERMETTANT DE DONNER LE NOMBRE D'ENREGISTREMENTS ET DE DESCRIPTEURS D'UN FICHIER CSV.\n",
    "---"
   ]
  },
  {
   "cell_type": "markdown",
   "metadata": {},
   "source": [
    "### Trier les enregistrements... ou les recherches !"
   ]
  },
  {
   "cell_type": "markdown",
   "metadata": {},
   "source": [
    "Trier les enregistrements selon les valeurs d'un descripteur est tout à fait possible :"
   ]
  },
  {
   "cell_type": "code",
   "execution_count": null,
   "metadata": {},
   "outputs": [],
   "source": [
    "trierparnation = monfichier.sort_values(by = \"nationalité\")\n",
    "print(trierparnation)"
   ]
  },
  {
   "cell_type": "markdown",
   "metadata": {},
   "source": [
    "*REMARQUE :*\n",
    "\n",
    "On peut combiner les critères de recherche ( 'critère 1' & 'critère 2' & etc.).  \n",
    "\n",
    "---\n",
    "*Exemples à faire pâlir un corbeau noir sur son arbre, perché :*\n",
    "\n",
    "---\n",
    "\n",
    "```python\n",
    "# on trie notre collection par titre et par nombre de diffusions, en utilisant l'opérateur logique 'and' :\n",
    "print(monfichier.sort_values(by = 'titre' and 'nombre de diffusions'))\n",
    "\n",
    "# on recherche les films du réalisateur 'ZEMECKIS ROBERT' diffusés pour la dernière fois en 2018 en utilisant l'opérateur logique & :\n",
    "print(monfichier.loc[(monfichier['réalisateurs'] == 'ZEMECKIS Robert' & monfichier['année de dernière diffusion' == '2018']])\n",
    "```"
   ]
  },
  {
   "cell_type": "markdown",
   "metadata": {},
   "source": [
    "---\n",
    "**QUESTIONS F**\n",
    "\n",
    "---\n",
    "1. NOTEZ L'INSTRUCTION PERMETTANT DE TRIER LA COLLECTION PAR ANNÉE DE PRODUCTION. COLLEZ UNE CAPTURE DU RÉSULTAT.\n",
    "2. NOTEZ L'INSTRUCTION PERMETTANT DE TRIER LA COLLECTION PAR TITRE ET ANNÉE DE DIFFUSION. COLLEZ UNE CAPTURE DU RÉSULTAT.\n",
    "---"
   ]
  },
  {
   "cell_type": "markdown",
   "metadata": {},
   "source": [
    "## Ajouter un enregistrement !"
   ]
  },
  {
   "cell_type": "markdown",
   "metadata": {},
   "source": [
    "Bien entendu, il est encore plus intéressant d'ajouter des enregistrements à notre collection s'il fallait la mettre à jour.  \n",
    "Ajoutons un enregistrement à cette collection :"
   ]
  },
  {
   "cell_type": "markdown",
   "metadata": {},
   "source": [
    "### Définissions notre enregistrementt"
   ]
  },
  {
   "cell_type": "code",
   "execution_count": null,
   "metadata": {},
   "outputs": [],
   "source": [
    "nouveautitre = ({\n",
    "    'nombre de diffusions' : '99',\n",
    "    'titre' : 'Hack en SNT',\n",
    "    'réalisateurs' : 'JOUIN A / BUNIET A',\n",
    "    'année de production' : '2019',\n",
    "    'nationalité' : 'Inconnue',\n",
    "    'année de dernière diffusion': '2020'}\n",
    ")"
   ]
  },
  {
   "cell_type": "markdown",
   "metadata": {},
   "source": [
    "Affichons notre futur enregistrement pour voir si tout est correct :"
   ]
  },
  {
   "cell_type": "code",
   "execution_count": null,
   "metadata": {},
   "outputs": [],
   "source": [
    "print(nouveautitre)"
   ]
  },
  {
   "cell_type": "markdown",
   "metadata": {},
   "source": [
    "### Reste à ajouter celle enregistrement à notre collection avec la méthode `.append()`"
   ]
  },
  {
   "cell_type": "code",
   "execution_count": null,
   "metadata": {},
   "outputs": [],
   "source": [
    "monfichier = monfichier.append(nouveautitre,ignore_index=True)"
   ]
  },
  {
   "cell_type": "markdown",
   "metadata": {},
   "source": [
    "Le paramètre :`ignore_index = True` précise qu'il ne faut pas enregistrer le numéro d'index dans le fichier."
   ]
  },
  {
   "cell_type": "markdown",
   "metadata": {},
   "source": [
    "**TESTEZ CES INSTRUCTIONS PUIS AFFICHEZ LA COLLECTION COMPLÈTE**"
   ]
  },
  {
   "cell_type": "markdown",
   "metadata": {},
   "source": [
    "---\n",
    "**QUESTION G**\n",
    "\n",
    "---\n",
    "\n",
    "1. EN SUIVANT L'EXEMPLE PRÉCÉDENT, AJOUTEZ VOTRE PROPRE FILM. VOUS JOINDREZ UNE CAPTURE DES INSTRUCTIONS ET DE LA PRÉSENCE DANS LA LISTE DE CE FILM GRÂCE À L'INSTRUCTION :  \n",
    "\n",
    "`monfichier.tail(2)`        qui affiche les deux derniers enregistrements !\n",
    "\n",
    "---"
   ]
  },
  {
   "cell_type": "markdown",
   "metadata": {},
   "source": [
    "### Et on enregistre tout cela dans un nouveau fichier en choisissant le point-virgule pour séparateur ;-) :###"
   ]
  },
  {
   "cell_type": "code",
   "execution_count": null,
   "metadata": {},
   "outputs": [],
   "source": [
    "monfichier.to_csv('Monclassement.csv',sep=';', index = False, encoding = 'utf-8')"
   ]
  },
  {
   "cell_type": "markdown",
   "metadata": {},
   "source": [
    "### Remarques :  \n",
    "- le paramètre `index = False` indique qu'il ne faut pas enregistrer la colonne des index dans le fichier ;\n",
    "- le paramètre `encoding = 'utf-8'` indique que les caractères doivent être encodés selon la \"norme\" UTF8 pour éviter les soucis avec les caractères accentués et autres."
   ]
  },
  {
   "cell_type": "markdown",
   "metadata": {},
   "source": [
    "---\n",
    "**QUESTION H**\n",
    "\n",
    "---\n",
    "\n",
    "1. Pour vérifier que l'enregistrement du fichier *'Monclassement.csv'* s'est bien déroulé, chargez ce nouveau fichier en mémoire et affichez les 5 dernières lignes de cette collection : insérez la capture d'écran dans votre document.\n",
    "\n",
    "---"
   ]
  }
 ],
 "metadata": {
  "kernelspec": {
   "display_name": "Python 3",
   "language": "python",
   "name": "python3"
  },
  "language_info": {
   "codemirror_mode": {
    "name": "ipython",
    "version": 3
   },
   "file_extension": ".py",
   "mimetype": "text/x-python",
   "name": "python",
   "nbconvert_exporter": "python",
   "pygments_lexer": "ipython3",
   "version": "3.7.3"
  }
 },
 "nbformat": 4,
 "nbformat_minor": 2
}
